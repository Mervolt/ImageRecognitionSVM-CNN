{
 "cells": [
  {
   "cell_type": "code",
   "execution_count": 1,
   "metadata": {},
   "outputs": [],
   "source": [
    "import matplotlib.pyplot as plt\n",
    "import numpy as np\n",
    "import scikitplot as skplt\n",
    "from sklearn.datasets import fetch_openml\n",
    "from sklearn import metrics, svm, preprocessing\n",
    "from sklearn.multiclass import OneVsRestClassifier\n",
    "from sklearn.model_selection import train_test_split\n",
    "from timeit import default_timer as timer\n",
    "from sklearn.preprocessing import StandardScaler, label_binarize"
   ]
  },
  {
   "cell_type": "code",
   "execution_count": 2,
   "metadata": {},
   "outputs": [],
   "source": [
    "mnist = fetch_openml(\"mnist_784\", data_home=\"./mnist_784\", cache=True)\n",
    "fmnist = fetch_openml(\"Fashion-MNIST\", data_home=\"./fmnist\", cache=True)\n",
    "\n"
   ]
  },
  {
   "cell_type": "code",
   "execution_count": 3,
   "metadata": {},
   "outputs": [],
   "source": [
    "def count_results(y_test, y_predicted, y_predicted_proba):\n",
    "    try:\n",
    "        print('Accuracy score:')\n",
    "        print(metrics.accuracy_score(y_test, y_predicted))\n",
    "        print('Zero one loss score:')\n",
    "        print(metrics.zero_one_loss(y_test, y_predicted))\n",
    "        print('F1 score:')\n",
    "        print(metrics.f1_score(y_test, y_predicted, average = None))\n",
    "        print('\\n')\n",
    "        print(skplt.metrics.plot_precision_recall(y_test, y_predicted_proba))\n",
    "        print(skplt.metrics.plot_roc(y_test, y_predicted_proba))\n",
    "        plt.rcParams['figure.figsize'] = [20, 10]\n",
    "        plt.rcParams['font.size'] = 10\n",
    "        plt.show()\n",
    "        print('\\n')\n",
    "        print('Hinge loss score:')\n",
    "        print(metrics.hinge_loss(y_test, y_predicted_proba))\n",
    "    except:\n",
    "        pass"
   ]
  },
  {
   "cell_type": "code",
   "execution_count": 4,
   "metadata": {
    "scrolled": false
   },
   "outputs": [],
   "source": [
    "def train_model_for_different_times(dataset):\n",
    "\n",
    "    Cs = [0.1, 0.4, 1]\n",
    "    test_size = 0.25\n",
    "    \n",
    "    x_dataset = dataset.data[0:35000]\n",
    "    y_dataset = dataset.target[0:35000]\n",
    "\n",
    "    for C in Cs:\n",
    "    \n",
    "        print('----------------------------------------------------------------------------------------------------------')\n",
    "        print('C value ' + str(C))\n",
    "        print('Rozmiar testowy ' + str(test_size))\n",
    "        print('Rozmiar treningowy ' + str(1 - test_size))\n",
    "        x_train, x_test, y_train, y_test = train_test_split(x_dataset, y_dataset, test_size=test_size)\n",
    "\n",
    "        scaler = StandardScaler().fit(x_train)\n",
    "        x_train = scaler.transform(x_train)\n",
    "        x_test = scaler.transform(x_test)\n",
    "        x_dataset = scaler.transform(x_dataset)\n",
    "        \n",
    "        print('Start fit.')\n",
    "        start_fit = timer()\n",
    "        linear_svc = OneVsRestClassifier(svm.SVC(kernel=\"linear\", probability=True, C=C), n_jobs=6).fit(x_train, y_train)\n",
    "        end_fit = timer()\n",
    "        print('Finished fit. Time: ' + str(end_fit - start_fit))\n",
    "        \n",
    "        print('Start predicted.')\n",
    "        start_pred = timer()\n",
    "        y_predicted = linear_svc.predict(x_test)\n",
    "        end_pred = timer()\n",
    "        print('Finished pred. Time: ' + str(end_pred - start_pred))\n",
    "        \n",
    "        print('Start predicted proba.')\n",
    "        start_pred_proba = timer()\n",
    "        y_predicted_proba = linear_svc.predict_proba(x_test)\n",
    "        end_pred_proba = timer()\n",
    "        print('Finished pred. Time: ' + str(end_pred_proba - start_pred_proba))\n",
    "    \n",
    "        count_results(y_test, y_predicted, y_predicted_proba)\n"
   ]
  },
  {
   "cell_type": "code",
   "execution_count": null,
   "metadata": {
    "scrolled": false
   },
   "outputs": [
    {
     "name": "stdout",
     "output_type": "stream",
     "text": [
      "----------------------------------------------------------------------------------------------------------\n",
      "C value 0.1\n",
      "Rozmiar testowy 0.25\n",
      "Rozmiar treningowy 0.75\n",
      "Start fit.\n"
     ]
    }
   ],
   "source": [
    "train_model_for_different_times(mnist)\n",
    "train_model_for_different_times(fmnist)"
   ]
  },
  {
   "cell_type": "code",
   "execution_count": null,
   "metadata": {},
   "outputs": [],
   "source": [
    "def train_model_for_different_training_sizes(dataset):\n",
    "\n",
    "    C = 0.7\n",
    "    train_sizes = [0.5, 0.75, 0.85]\n",
    "    \n",
    "    x_dataset = dataset.data[0:35000]\n",
    "    y_dataset = dataset.target[0:35000]\n",
    "\n",
    "    for train_size in train_sizes:\n",
    "        test_size = 1 - train_size\n",
    "        print('----------------------------------------------------------------------------------------------------------')\n",
    "        print('C value ' + str(C))\n",
    "        print('Rozmiar testowy ' + str(test_size))\n",
    "        print('Rozmiar treningowy ' + str(train_size))\n",
    "        x_train, x_test, y_train, y_test = train_test_split(x_dataset, y_dataset, test_size=test_size)\n",
    "\n",
    "        scaler = StandardScaler().fit(x_train)\n",
    "        x_train = scaler.transform(x_train)\n",
    "        x_test = scaler.transform(x_test)\n",
    "        x_dataset = scaler.transform(x_dataset)\n",
    "        \n",
    "        print('Start fit.')\n",
    "        start_fit = timer()\n",
    "        linear_svc = OneVsRestClassifier(svm.SVC(kernel=\"linear\", probability=True, C=C), n_jobs=6).fit(x_train, y_train)\n",
    "        end_fit = timer()\n",
    "        print('Finished fit. Time: ' + str(end_fit - start_fit))\n",
    "        \n",
    "        print('Start predicted.')\n",
    "        start_pred = timer()\n",
    "        y_predicted = linear_svc.predict(x_test)\n",
    "        end_pred = timer()\n",
    "        print('Finished pred. Time: ' + str(end_pred - start_pred))\n",
    "        \n",
    "        print('Start predicted proba.')\n",
    "        start_pred_proba = timer()\n",
    "        y_predicted_proba = linear_svc.predict_proba(x_test)\n",
    "        end_pred_proba = timer()\n",
    "        print('Finished pred. Time: ' + str(end_pred_proba - start_pred_proba))\n",
    "    \n",
    "        count_results(y_test, y_predicted, y_predicted_proba)"
   ]
  },
  {
   "cell_type": "code",
   "execution_count": null,
   "metadata": {},
   "outputs": [],
   "source": [
    "train_model_for_different_training_sizes(mnist)\n",
    "train_model_for_different_training_sizes(fmnist)"
   ]
  },
  {
   "cell_type": "code",
   "execution_count": null,
   "metadata": {},
   "outputs": [],
   "source": []
  },
  {
   "cell_type": "code",
   "execution_count": null,
   "metadata": {},
   "outputs": [],
   "source": []
  },
  {
   "cell_type": "code",
   "execution_count": null,
   "metadata": {},
   "outputs": [],
   "source": []
  },
  {
   "cell_type": "code",
   "execution_count": null,
   "metadata": {},
   "outputs": [],
   "source": []
  }
 ],
 "metadata": {
  "kernelspec": {
   "display_name": "Python 3",
   "language": "python",
   "name": "python3"
  },
  "language_info": {
   "codemirror_mode": {
    "name": "ipython",
    "version": 3
   },
   "file_extension": ".py",
   "mimetype": "text/x-python",
   "name": "python",
   "nbconvert_exporter": "python",
   "pygments_lexer": "ipython3",
   "version": "3.6.10"
  }
 },
 "nbformat": 4,
 "nbformat_minor": 4
}
